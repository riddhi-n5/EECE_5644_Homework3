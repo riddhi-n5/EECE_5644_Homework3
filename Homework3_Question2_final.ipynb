{
  "nbformat": 4,
  "nbformat_minor": 0,
  "metadata": {
    "colab": {
      "name": "Homework3_Question2_final.ipynb",
      "provenance": []
    },
    "kernelspec": {
      "name": "python3",
      "display_name": "Python 3"
    },
    "language_info": {
      "name": "python"
    },
    "widgets": {
      "application/vnd.jupyter.widget-state+json": {
        "cadcd0237d60495c921bc280f81c7e39": {
          "model_module": "jupyter-matplotlib",
          "model_name": "MPLCanvasModel",
          "model_module_version": "^0.11",
          "state": {
            "_cursor": "pointer",
            "_data_url": "data:image/png;base64,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",
            "_dom_classes": [],
            "_figure_label": "Figure 1",
            "_image_mode": "full",
            "_message": "",
            "_model_module": "jupyter-matplotlib",
            "_model_module_version": "^0.11",
            "_model_name": "MPLCanvasModel",
            "_rubberband_height": 0,
            "_rubberband_width": 0,
            "_rubberband_x": 0,
            "_rubberband_y": 0,
            "_size": [
              648,
              648
            ],
            "_view_count": null,
            "_view_module": "jupyter-matplotlib",
            "_view_module_version": "^0.11",
            "_view_name": "MPLCanvasView",
            "capture_scroll": false,
            "footer_visible": true,
            "header_visible": true,
            "layout": "IPY_MODEL_4e455f52b9bb4db4bdbd7e248e3ec84d",
            "pan_zoom_throttle": 33,
            "resizable": true,
            "toolbar": "IPY_MODEL_4d68f23d36714f6ab00a0ad00840366f",
            "toolbar_position": "left",
            "toolbar_visible": "fade-in-fade-out"
          }
        },
        "4e455f52b9bb4db4bdbd7e248e3ec84d": {
          "model_module": "@jupyter-widgets/base",
          "model_name": "LayoutModel",
          "model_module_version": "1.2.0",
          "state": {
            "_model_module": "@jupyter-widgets/base",
            "_model_module_version": "1.2.0",
            "_model_name": "LayoutModel",
            "_view_count": null,
            "_view_module": "@jupyter-widgets/base",
            "_view_module_version": "1.2.0",
            "_view_name": "LayoutView",
            "align_content": null,
            "align_items": null,
            "align_self": null,
            "border": null,
            "bottom": null,
            "display": null,
            "flex": null,
            "flex_flow": null,
            "grid_area": null,
            "grid_auto_columns": null,
            "grid_auto_flow": null,
            "grid_auto_rows": null,
            "grid_column": null,
            "grid_gap": null,
            "grid_row": null,
            "grid_template_areas": null,
            "grid_template_columns": null,
            "grid_template_rows": null,
            "height": null,
            "justify_content": null,
            "justify_items": null,
            "left": null,
            "margin": null,
            "max_height": null,
            "max_width": null,
            "min_height": null,
            "min_width": null,
            "object_fit": null,
            "object_position": null,
            "order": null,
            "overflow": null,
            "overflow_x": null,
            "overflow_y": null,
            "padding": null,
            "right": null,
            "top": null,
            "visibility": null,
            "width": null
          }
        },
        "4d68f23d36714f6ab00a0ad00840366f": {
          "model_module": "jupyter-matplotlib",
          "model_name": "ToolbarModel",
          "model_module_version": "^0.11",
          "state": {
            "_current_action": "",
            "_dom_classes": [],
            "_model_module": "jupyter-matplotlib",
            "_model_module_version": "^0.11",
            "_model_name": "ToolbarModel",
            "_view_count": null,
            "_view_module": "jupyter-matplotlib",
            "_view_module_version": "^0.11",
            "_view_name": "ToolbarView",
            "button_style": "",
            "collapsed": true,
            "layout": "IPY_MODEL_23b280a69ec54447a45704504560c851",
            "orientation": "vertical",
            "toolitems": [
              [
                "Home",
                "Reset original view",
                "home",
                "home"
              ],
              [
                "Back",
                "Back to  previous view",
                "arrow-left",
                "back"
              ],
              [
                "Forward",
                "Forward to next view",
                "arrow-right",
                "forward"
              ],
              [
                "Pan",
                "Pan axes with left mouse, zoom with right",
                "arrows",
                "pan"
              ],
              [
                "Zoom",
                "Zoom to rectangle",
                "square-o",
                "zoom"
              ],
              [
                "Download",
                "Download plot",
                "floppy-o",
                "save_figure"
              ]
            ]
          }
        },
        "23b280a69ec54447a45704504560c851": {
          "model_module": "@jupyter-widgets/base",
          "model_name": "LayoutModel",
          "model_module_version": "1.2.0",
          "state": {
            "_model_module": "@jupyter-widgets/base",
            "_model_module_version": "1.2.0",
            "_model_name": "LayoutModel",
            "_view_count": null,
            "_view_module": "@jupyter-widgets/base",
            "_view_module_version": "1.2.0",
            "_view_name": "LayoutView",
            "align_content": null,
            "align_items": null,
            "align_self": null,
            "border": null,
            "bottom": null,
            "display": null,
            "flex": null,
            "flex_flow": null,
            "grid_area": null,
            "grid_auto_columns": null,
            "grid_auto_flow": null,
            "grid_auto_rows": null,
            "grid_column": null,
            "grid_gap": null,
            "grid_row": null,
            "grid_template_areas": null,
            "grid_template_columns": null,
            "grid_template_rows": null,
            "height": null,
            "justify_content": null,
            "justify_items": null,
            "left": null,
            "margin": null,
            "max_height": null,
            "max_width": null,
            "min_height": null,
            "min_width": null,
            "object_fit": null,
            "object_position": null,
            "order": null,
            "overflow": null,
            "overflow_x": null,
            "overflow_y": null,
            "padding": null,
            "right": null,
            "top": null,
            "visibility": null,
            "width": null
          }
        }
      }
    }
  },
  "cells": [
    {
      "cell_type": "code",
      "execution_count": 1,
      "metadata": {
        "colab": {
          "base_uri": "https://localhost:8080/",
          "height": 1000
        },
        "id": "-Qz-Gzrs0H7w",
        "outputId": "8390b883-628e-4294-cdc4-c35282c4c33b"
      },
      "outputs": [
        {
          "output_type": "stream",
          "name": "stdout",
          "text": [
            "Looking in indexes: https://pypi.org/simple, https://us-python.pkg.dev/colab-wheels/public/simple/\n",
            "Collecting ipympl\n",
            "  Downloading ipympl-0.9.1-py2.py3-none-any.whl (508 kB)\n",
            "\u001b[K     |████████████████████████████████| 508 kB 4.5 MB/s \n",
            "\u001b[?25hRequirement already satisfied: pillow in /usr/local/lib/python3.7/dist-packages (from ipympl) (7.1.2)\n",
            "Requirement already satisfied: traitlets<6 in /usr/local/lib/python3.7/dist-packages (from ipympl) (5.1.1)\n",
            "Requirement already satisfied: ipython-genutils in /usr/local/lib/python3.7/dist-packages (from ipympl) (0.2.0)\n",
            "Requirement already satisfied: ipython<9 in /usr/local/lib/python3.7/dist-packages (from ipympl) (5.5.0)\n",
            "Requirement already satisfied: ipywidgets<8,>=7.6.0 in /usr/local/lib/python3.7/dist-packages (from ipympl) (7.7.1)\n",
            "Collecting matplotlib<4,>=3.4.0\n",
            "  Downloading matplotlib-3.5.3-cp37-cp37m-manylinux_2_5_x86_64.manylinux1_x86_64.whl (11.2 MB)\n",
            "\u001b[K     |████████████████████████████████| 11.2 MB 11.0 MB/s \n",
            "\u001b[?25hRequirement already satisfied: numpy in /usr/local/lib/python3.7/dist-packages (from ipympl) (1.21.6)\n",
            "Requirement already satisfied: setuptools>=18.5 in /usr/local/lib/python3.7/dist-packages (from ipython<9->ipympl) (57.4.0)\n",
            "Requirement already satisfied: pickleshare in /usr/local/lib/python3.7/dist-packages (from ipython<9->ipympl) (0.7.5)\n",
            "Requirement already satisfied: simplegeneric>0.8 in /usr/local/lib/python3.7/dist-packages (from ipython<9->ipympl) (0.8.1)\n",
            "Requirement already satisfied: prompt-toolkit<2.0.0,>=1.0.4 in /usr/local/lib/python3.7/dist-packages (from ipython<9->ipympl) (1.0.18)\n",
            "Requirement already satisfied: pygments in /usr/local/lib/python3.7/dist-packages (from ipython<9->ipympl) (2.6.1)\n",
            "Requirement already satisfied: decorator in /usr/local/lib/python3.7/dist-packages (from ipython<9->ipympl) (4.4.2)\n",
            "Requirement already satisfied: pexpect in /usr/local/lib/python3.7/dist-packages (from ipython<9->ipympl) (4.8.0)\n",
            "Requirement already satisfied: ipykernel>=4.5.1 in /usr/local/lib/python3.7/dist-packages (from ipywidgets<8,>=7.6.0->ipympl) (4.10.1)\n",
            "Requirement already satisfied: widgetsnbextension~=3.6.0 in /usr/local/lib/python3.7/dist-packages (from ipywidgets<8,>=7.6.0->ipympl) (3.6.1)\n",
            "Requirement already satisfied: jupyterlab-widgets>=1.0.0 in /usr/local/lib/python3.7/dist-packages (from ipywidgets<8,>=7.6.0->ipympl) (1.1.1)\n",
            "Requirement already satisfied: tornado>=4.0 in /usr/local/lib/python3.7/dist-packages (from ipykernel>=4.5.1->ipywidgets<8,>=7.6.0->ipympl) (5.1.1)\n",
            "Requirement already satisfied: jupyter-client in /usr/local/lib/python3.7/dist-packages (from ipykernel>=4.5.1->ipywidgets<8,>=7.6.0->ipympl) (5.3.5)\n",
            "Collecting fonttools>=4.22.0\n",
            "  Downloading fonttools-4.34.4-py3-none-any.whl (944 kB)\n",
            "\u001b[K     |████████████████████████████████| 944 kB 35.0 MB/s \n",
            "\u001b[?25hRequirement already satisfied: packaging>=20.0 in /usr/local/lib/python3.7/dist-packages (from matplotlib<4,>=3.4.0->ipympl) (21.3)\n",
            "Requirement already satisfied: kiwisolver>=1.0.1 in /usr/local/lib/python3.7/dist-packages (from matplotlib<4,>=3.4.0->ipympl) (1.4.4)\n",
            "Requirement already satisfied: cycler>=0.10 in /usr/local/lib/python3.7/dist-packages (from matplotlib<4,>=3.4.0->ipympl) (0.11.0)\n",
            "Requirement already satisfied: pyparsing>=2.2.1 in /usr/local/lib/python3.7/dist-packages (from matplotlib<4,>=3.4.0->ipympl) (3.0.9)\n",
            "Requirement already satisfied: python-dateutil>=2.7 in /usr/local/lib/python3.7/dist-packages (from matplotlib<4,>=3.4.0->ipympl) (2.8.2)\n",
            "Requirement already satisfied: typing-extensions in /usr/local/lib/python3.7/dist-packages (from kiwisolver>=1.0.1->matplotlib<4,>=3.4.0->ipympl) (4.1.1)\n",
            "Requirement already satisfied: wcwidth in /usr/local/lib/python3.7/dist-packages (from prompt-toolkit<2.0.0,>=1.0.4->ipython<9->ipympl) (0.2.5)\n",
            "Requirement already satisfied: six>=1.9.0 in /usr/local/lib/python3.7/dist-packages (from prompt-toolkit<2.0.0,>=1.0.4->ipython<9->ipympl) (1.15.0)\n",
            "Requirement already satisfied: notebook>=4.4.1 in /usr/local/lib/python3.7/dist-packages (from widgetsnbextension~=3.6.0->ipywidgets<8,>=7.6.0->ipympl) (5.3.1)\n",
            "Requirement already satisfied: jupyter-core>=4.4.0 in /usr/local/lib/python3.7/dist-packages (from notebook>=4.4.1->widgetsnbextension~=3.6.0->ipywidgets<8,>=7.6.0->ipympl) (4.11.1)\n",
            "Requirement already satisfied: jinja2 in /usr/local/lib/python3.7/dist-packages (from notebook>=4.4.1->widgetsnbextension~=3.6.0->ipywidgets<8,>=7.6.0->ipympl) (2.11.3)\n",
            "Requirement already satisfied: terminado>=0.8.1 in /usr/local/lib/python3.7/dist-packages (from notebook>=4.4.1->widgetsnbextension~=3.6.0->ipywidgets<8,>=7.6.0->ipympl) (0.13.3)\n",
            "Requirement already satisfied: nbconvert in /usr/local/lib/python3.7/dist-packages (from notebook>=4.4.1->widgetsnbextension~=3.6.0->ipywidgets<8,>=7.6.0->ipympl) (5.6.1)\n",
            "Requirement already satisfied: nbformat in /usr/local/lib/python3.7/dist-packages (from notebook>=4.4.1->widgetsnbextension~=3.6.0->ipywidgets<8,>=7.6.0->ipympl) (5.4.0)\n",
            "Requirement already satisfied: Send2Trash in /usr/local/lib/python3.7/dist-packages (from notebook>=4.4.1->widgetsnbextension~=3.6.0->ipywidgets<8,>=7.6.0->ipympl) (1.8.0)\n",
            "Requirement already satisfied: pyzmq>=13 in /usr/local/lib/python3.7/dist-packages (from jupyter-client->ipykernel>=4.5.1->ipywidgets<8,>=7.6.0->ipympl) (23.2.0)\n",
            "Requirement already satisfied: ptyprocess in /usr/local/lib/python3.7/dist-packages (from terminado>=0.8.1->notebook>=4.4.1->widgetsnbextension~=3.6.0->ipywidgets<8,>=7.6.0->ipympl) (0.7.0)\n",
            "Requirement already satisfied: MarkupSafe>=0.23 in /usr/local/lib/python3.7/dist-packages (from jinja2->notebook>=4.4.1->widgetsnbextension~=3.6.0->ipywidgets<8,>=7.6.0->ipympl) (2.0.1)\n",
            "Requirement already satisfied: bleach in /usr/local/lib/python3.7/dist-packages (from nbconvert->notebook>=4.4.1->widgetsnbextension~=3.6.0->ipywidgets<8,>=7.6.0->ipympl) (5.0.1)\n",
            "Requirement already satisfied: mistune<2,>=0.8.1 in /usr/local/lib/python3.7/dist-packages (from nbconvert->notebook>=4.4.1->widgetsnbextension~=3.6.0->ipywidgets<8,>=7.6.0->ipympl) (0.8.4)\n",
            "Requirement already satisfied: defusedxml in /usr/local/lib/python3.7/dist-packages (from nbconvert->notebook>=4.4.1->widgetsnbextension~=3.6.0->ipywidgets<8,>=7.6.0->ipympl) (0.7.1)\n",
            "Requirement already satisfied: entrypoints>=0.2.2 in /usr/local/lib/python3.7/dist-packages (from nbconvert->notebook>=4.4.1->widgetsnbextension~=3.6.0->ipywidgets<8,>=7.6.0->ipympl) (0.4)\n",
            "Requirement already satisfied: pandocfilters>=1.4.1 in /usr/local/lib/python3.7/dist-packages (from nbconvert->notebook>=4.4.1->widgetsnbextension~=3.6.0->ipywidgets<8,>=7.6.0->ipympl) (1.5.0)\n",
            "Requirement already satisfied: testpath in /usr/local/lib/python3.7/dist-packages (from nbconvert->notebook>=4.4.1->widgetsnbextension~=3.6.0->ipywidgets<8,>=7.6.0->ipympl) (0.6.0)\n",
            "Requirement already satisfied: fastjsonschema in /usr/local/lib/python3.7/dist-packages (from nbformat->notebook>=4.4.1->widgetsnbextension~=3.6.0->ipywidgets<8,>=7.6.0->ipympl) (2.16.1)\n",
            "Requirement already satisfied: jsonschema>=2.6 in /usr/local/lib/python3.7/dist-packages (from nbformat->notebook>=4.4.1->widgetsnbextension~=3.6.0->ipywidgets<8,>=7.6.0->ipympl) (4.3.3)\n",
            "Requirement already satisfied: attrs>=17.4.0 in /usr/local/lib/python3.7/dist-packages (from jsonschema>=2.6->nbformat->notebook>=4.4.1->widgetsnbextension~=3.6.0->ipywidgets<8,>=7.6.0->ipympl) (22.1.0)\n",
            "Requirement already satisfied: importlib-metadata in /usr/local/lib/python3.7/dist-packages (from jsonschema>=2.6->nbformat->notebook>=4.4.1->widgetsnbextension~=3.6.0->ipywidgets<8,>=7.6.0->ipympl) (4.12.0)\n",
            "Requirement already satisfied: pyrsistent!=0.17.0,!=0.17.1,!=0.17.2,>=0.14.0 in /usr/local/lib/python3.7/dist-packages (from jsonschema>=2.6->nbformat->notebook>=4.4.1->widgetsnbextension~=3.6.0->ipywidgets<8,>=7.6.0->ipympl) (0.18.1)\n",
            "Requirement already satisfied: importlib-resources>=1.4.0 in /usr/local/lib/python3.7/dist-packages (from jsonschema>=2.6->nbformat->notebook>=4.4.1->widgetsnbextension~=3.6.0->ipywidgets<8,>=7.6.0->ipympl) (5.9.0)\n",
            "Requirement already satisfied: zipp>=3.1.0 in /usr/local/lib/python3.7/dist-packages (from importlib-resources>=1.4.0->jsonschema>=2.6->nbformat->notebook>=4.4.1->widgetsnbextension~=3.6.0->ipywidgets<8,>=7.6.0->ipympl) (3.8.1)\n",
            "Requirement already satisfied: webencodings in /usr/local/lib/python3.7/dist-packages (from bleach->nbconvert->notebook>=4.4.1->widgetsnbextension~=3.6.0->ipywidgets<8,>=7.6.0->ipympl) (0.5.1)\n",
            "Installing collected packages: fonttools, matplotlib, ipympl\n",
            "  Attempting uninstall: matplotlib\n",
            "    Found existing installation: matplotlib 3.2.2\n",
            "    Uninstalling matplotlib-3.2.2:\n",
            "      Successfully uninstalled matplotlib-3.2.2\n",
            "Successfully installed fonttools-4.34.4 ipympl-0.9.1 matplotlib-3.5.3\n"
          ]
        },
        {
          "output_type": "display_data",
          "data": {
            "application/vnd.colab-display-data+json": {
              "pip_warning": {
                "packages": [
                  "matplotlib",
                  "mpl_toolkits"
                ]
              }
            }
          },
          "metadata": {}
        }
      ],
      "source": [
        "!pip install ipympl"
      ]
    },
    {
      "cell_type": "code",
      "source": [
        "# Widget to manipulate plots in Jupyter notebooks\n",
        "%matplotlib widget \n",
        "\n",
        "import matplotlib.pyplot as plt # For general plotting\n",
        "import matplotlib.colors as mcol\n",
        "\n",
        "import numpy as np\n",
        "import pandas as pd\n",
        "from scipy.stats import multivariate_normal as mvn\n",
        "from sklearn.linear_model import LogisticRegression\n",
        "from sklearn.datasets import make_spd_matrix\n",
        "import matplotlib.pyplot as plt\n",
        "from sklearn.model_selection import KFold\n",
        "from scipy.optimize import minimize\n",
        "from sklearn.metrics import mean_squared_error\n",
        "import torch\n",
        "import torch.nn as nn\n",
        "import torch.nn.functional as F\n",
        "\n",
        "# Utility to visualize PyTorch network and shapes\n",
        "from torchsummary import summary\n",
        "from google.colab import output\n",
        "output.enable_custom_widget_manager()\n",
        "\n",
        "np.random.seed(2)\n",
        "\n",
        "n = 10\n",
        "n_train = 50\n",
        "n_test = 1000"
      ],
      "metadata": {
        "id": "hh459FOy0NVu"
      },
      "execution_count": 1,
      "outputs": []
    },
    {
      "cell_type": "code",
      "source": [
        "a = (np.random.rand(n, 1) * 10 - 10)\n",
        "mu = np.random.rand(n) * 10 - 10\n",
        "sigma = make_spd_matrix(10) * 10 #positive definite matrix\n",
        "scale = 1.25\n",
        "\n",
        "X_train = np.random.multivariate_normal(mu, sigma, n_train)\n",
        "z_train = np.random.multivariate_normal(np.zeros(10), scale * np.eye(10), size=n_train)\n",
        "v_train = np.random.normal(0, 1, size=n_train).reshape(-1, 1)\n",
        "y_train = (X_train + z_train).dot(a) + v_train\n",
        "\n",
        "X_test = np.random.multivariate_normal(mu, sigma, n_test)\n",
        "z_test = np.random.multivariate_normal(\n",
        "    np.zeros(n), scale * np.eye(n), size=n_test\n",
        ")\n",
        "v_test = np.random.normal(0, 1, size=n_test).reshape(-1, 1)\n",
        "y_test = (X_test + z_test).dot(a) + v_test"
      ],
      "metadata": {
        "id": "Lf-sijm30NYW"
      },
      "execution_count": 2,
      "outputs": []
    },
    {
      "cell_type": "code",
      "source": [
        "def map_solution(X, y, beta=1):\n",
        "    # Model: y = phi(X)^T*theta\n",
        "    # LS estimate: theta^* = (phi(X)^T*phi(X))^-1 * phi(X)^T * y\n",
        "    \n",
        "    iden = np.identity(X.shape[1])\n",
        "    class_prior = np.dot(beta,iden)\n",
        "    \n",
        "    return np.linalg.inv(X.T.dot(X) + class_prior).dot(X.T).dot(y)"
      ],
      "metadata": {
        "id": "K3JSoNKt0Nad"
      },
      "execution_count": 3,
      "outputs": []
    },
    {
      "cell_type": "code",
      "source": [
        "k_fold = KFold(n_splits=5, shuffle=True, random_state=0) #5 folds of data;\n",
        "def cross_val(b, X, y):\n",
        "\n",
        "  err_per_k = []\n",
        "  for train_idx, kf_idx in k_fold.split(X):\n",
        "\n",
        "    X_train = X[train_idx]\n",
        "    y_train = y[train_idx]\n",
        "    X_k = X[kf_idx]\n",
        "    y_k = y[kf_idx]\n",
        "\n",
        "    best_theta = map_solution(X[train_idx], y_train, b)\n",
        "    y_train_k_pred = X_train.dot(best_theta)        \n",
        "    y_valid_k_pred = X_k.dot(best_theta)\n",
        "    \n",
        "    #error_m_k = mean_squared_error( y_train, y_train_k_pred)\n",
        "    error_m_k = mean_squared_error(y_k, y_valid_k_pred )\n",
        "\n",
        "    err_per_k.append(error_m_k)\n",
        "\n",
        "  mean_err = np.mean(err_per_k)\n",
        "  return mean_err"
      ],
      "metadata": {
        "id": "V9M7kPUZ0Ncr"
      },
      "execution_count": 4,
      "outputs": []
    },
    {
      "cell_type": "code",
      "source": [
        "beta_vals = np.logspace(-4, 4)\n",
        "mse_list = [cross_val(b, X_train, y_train) for b in beta_vals]\n",
        "best_beta = beta_vals[np.argmin(mse_list)]\n",
        "\n",
        "print(f\"Best beta value: {best_beta}\")\n",
        "mse_cv = np.min(mse_list)\n",
        "print(f\"MSE(cross validated) of best beta: {mse_cv}\")"
      ],
      "metadata": {
        "colab": {
          "base_uri": "https://localhost:8080/"
        },
        "id": "UpBidVBc0Ney",
        "outputId": "c6ae832e-56d7-4780-a36c-3f5de12ed526"
      },
      "execution_count": 5,
      "outputs": [
        {
          "output_type": "stream",
          "name": "stdout",
          "text": [
            "Best beta value: 0.0001\n",
            "MSE(cross validated) of best beta: 430.5139810095325\n"
          ]
        }
      ]
    },
    {
      "cell_type": "code",
      "source": [
        "#!pip install matplotlib==2.2.3"
      ],
      "metadata": {
        "colab": {
          "base_uri": "https://localhost:8080/",
          "height": 521
        },
        "id": "lgD4LHep6OG-",
        "outputId": "3c26febf-ba00-4c58-d268-f84873a02cfc"
      },
      "execution_count": 14,
      "outputs": [
        {
          "output_type": "stream",
          "name": "stdout",
          "text": [
            "Looking in indexes: https://pypi.org/simple, https://us-python.pkg.dev/colab-wheels/public/simple/\n",
            "Collecting matplotlib==2.2.3\n",
            "  Downloading matplotlib-2.2.3-cp37-cp37m-manylinux1_x86_64.whl (12.6 MB)\n",
            "\u001b[K     |████████████████████████████████| 12.6 MB 4.9 MB/s \n",
            "\u001b[?25hRequirement already satisfied: python-dateutil>=2.1 in /usr/local/lib/python3.7/dist-packages (from matplotlib==2.2.3) (2.8.2)\n",
            "Requirement already satisfied: numpy>=1.7.1 in /usr/local/lib/python3.7/dist-packages (from matplotlib==2.2.3) (1.21.6)\n",
            "Requirement already satisfied: six>=1.10 in /usr/local/lib/python3.7/dist-packages (from matplotlib==2.2.3) (1.15.0)\n",
            "Requirement already satisfied: pytz in /usr/local/lib/python3.7/dist-packages (from matplotlib==2.2.3) (2022.1)\n",
            "Requirement already satisfied: pyparsing!=2.0.4,!=2.1.2,!=2.1.6,>=2.0.1 in /usr/local/lib/python3.7/dist-packages (from matplotlib==2.2.3) (3.0.9)\n",
            "Requirement already satisfied: cycler>=0.10 in /usr/local/lib/python3.7/dist-packages (from matplotlib==2.2.3) (0.11.0)\n",
            "Requirement already satisfied: kiwisolver>=1.0.1 in /usr/local/lib/python3.7/dist-packages (from matplotlib==2.2.3) (1.4.4)\n",
            "Requirement already satisfied: typing-extensions in /usr/local/lib/python3.7/dist-packages (from kiwisolver>=1.0.1->matplotlib==2.2.3) (4.1.1)\n",
            "Installing collected packages: matplotlib\n",
            "  Attempting uninstall: matplotlib\n",
            "    Found existing installation: matplotlib 3.5.3\n",
            "    Uninstalling matplotlib-3.5.3:\n",
            "      Successfully uninstalled matplotlib-3.5.3\n",
            "\u001b[31mERROR: pip's dependency resolver does not currently take into account all the packages that are installed. This behaviour is the source of the following dependency conflicts.\n",
            "plotnine 0.6.0 requires matplotlib>=3.1.1, but you have matplotlib 2.2.3 which is incompatible.\n",
            "mizani 0.6.0 requires matplotlib>=3.1.1, but you have matplotlib 2.2.3 which is incompatible.\n",
            "ipympl 0.9.1 requires matplotlib<4,>=3.4.0, but you have matplotlib 2.2.3 which is incompatible.\n",
            "datascience 0.17.5 requires matplotlib>=3.0.0, but you have matplotlib 2.2.3 which is incompatible.\n",
            "arviz 0.12.1 requires matplotlib>=3.0, but you have matplotlib 2.2.3 which is incompatible.\u001b[0m\n",
            "Successfully installed matplotlib-2.2.3\n"
          ]
        },
        {
          "output_type": "display_data",
          "data": {
            "application/vnd.colab-display-data+json": {
              "pip_warning": {
                "packages": [
                  "matplotlib",
                  "mpl_toolkits"
                ]
              }
            }
          },
          "metadata": {}
        }
      ]
    },
    {
      "cell_type": "code",
      "source": [
        "from google.colab import output\n",
        "output.enable_custom_widget_manager()\n",
        "fig, ax = plt.subplots(figsize=(9, 9))\n",
        "ax.plot(beta_vals, mse_list, label=\"CV MSE\")\n",
        "ax.scatter(\n",
        "    best_beta,\n",
        "    np.min(mse_list),\n",
        "    label=r\"Optimal $\\beta$\",\n",
        "    zorder=2,\n",
        "    linewidth=5,\n",
        "    color=\"#fc4f30\",\n",
        ")\n",
        "ax.set_title(r\"MSE vs $\\beta$\")\n",
        "ax.set_xlabel(r\"$\\beta$\")\n",
        "ax.set_ylabel(r\"MSE\")\n",
        "ax.legend()\n",
        "ax.set_xscale(\"log\")"
      ],
      "metadata": {
        "colab": {
          "base_uri": "https://localhost:8080/",
          "height": 826,
          "referenced_widgets": [
            "cadcd0237d60495c921bc280f81c7e39",
            "4e455f52b9bb4db4bdbd7e248e3ec84d",
            "4d68f23d36714f6ab00a0ad00840366f",
            "23b280a69ec54447a45704504560c851"
          ]
        },
        "id": "ePbgRL5B0Ngy",
        "outputId": "d26208f7-1572-407e-e9a3-146e77eb19e6"
      },
      "execution_count": 6,
      "outputs": [
        {
          "output_type": "stream",
          "name": "stderr",
          "text": [
            "/usr/local/lib/python3.7/dist-packages/matplotlib/__init__.py:941: MatplotlibDeprecationWarning: nbagg.transparent is deprecated and ignored. Use figure.facecolor instead.\n",
            "  mplDeprecation)\n"
          ]
        },
        {
          "output_type": "display_data",
          "data": {
            "text/plain": [
              "Canvas(toolbar=Toolbar(toolitems=[('Home', 'Reset original view', 'home', 'home'), ('Back', 'Back to  previous…"
            ],
            "image/png": "[encoded data removed]",
            "text/html": [
              "\n",
              "            <div style=\"display: inline-block;\">\n",
              "                <div class=\"jupyter-widgets widget-label\" style=\"text-align: center;\">\n",
              "                    Figure\n",
              "                </div>\n",
              "                <img src='data:image/png;base64,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' width=648.0/>\n",
              "            </div>\n",
              "        "
            ],
            "application/vnd.jupyter.widget-view+json": {
              "version_major": 2,
              "version_minor": 0,
              "model_id": "cadcd0237d60495c921bc280f81c7e39"
            }
          },
          "metadata": {
            "application/vnd.jupyter.widget-view+json": {
              "colab": {
                "custom_widget_manager": {
                  "url": "https://ssl.gstatic.com/colaboratory-static/widgets/colab-cdn-widget-manager/d2e234f7cc04bf79/manager.min.js"
                }
              }
            }
          }
        },
        {
          "output_type": "stream",
          "name": "stderr",
          "text": [
            "/usr/local/lib/python3.7/dist-packages/matplotlib/backends/backend_webagg_core.py:256: UserWarning: Unhandled message type set_device_pixel_ratio. {'device_pixel_ratio': 1.7999999523162842, 'type': 'set_device_pixel_ratio'}\n",
            "  event['type'], event))\n"
          ]
        }
      ]
    },
    {
      "cell_type": "code",
      "source": [
        ""
      ],
      "metadata": {
        "id": "Gv9URdkp0Niu"
      },
      "execution_count": null,
      "outputs": []
    },
    {
      "cell_type": "code",
      "source": [
        ""
      ],
      "metadata": {
        "id": "ovkbbZ7q0NkV"
      },
      "execution_count": null,
      "outputs": []
    }
  ]
}