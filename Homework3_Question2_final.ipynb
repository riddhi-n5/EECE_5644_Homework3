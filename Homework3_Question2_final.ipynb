{
  "nbformat": 4,
  "nbformat_minor": 0,
  "metadata": {
    "colab": {
      "name": "Homework3_Question2_final.ipynb",
      "provenance": []
    },
    "kernelspec": {
      "name": "python3",
      "display_name": "Python 3"
    },
    "language_info": {
      "name": "python"
    },
    "widgets": {
      "application/vnd.jupyter.widget-state+json": {
        "c4f1941804fa4627ae404151a1ee210f": {
          "model_module": "jupyter-matplotlib",
          "model_name": "MPLCanvasModel",
          "model_module_version": "^0.11",
          "state": {
            "_cursor": "default",
            "_data_url": "data:image/png;base64,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",
            "_dom_classes": [],
            "_figure_label": "Figure 1",
            "_image_mode": "full",
            "_message": "",
            "_model_module": "jupyter-matplotlib",
            "_model_module_version": "^0.11",
            "_model_name": "MPLCanvasModel",
            "_rubberband_height": 0,
            "_rubberband_width": 0,
            "_rubberband_x": 0,
            "_rubberband_y": 0,
            "_size": [
              648,
              648
            ],
            "_view_count": null,
            "_view_module": "jupyter-matplotlib",
            "_view_module_version": "^0.11",
            "_view_name": "MPLCanvasView",
            "capture_scroll": false,
            "footer_visible": true,
            "header_visible": true,
            "layout": "IPY_MODEL_3af5d65f75c24983a97c3f775d43e658",
            "pan_zoom_throttle": 33,
            "resizable": true,
            "toolbar": "IPY_MODEL_b9b1237e96fe42f39d2230d86579c3be",
            "toolbar_position": "left",
            "toolbar_visible": "fade-in-fade-out"
          }
        },
        "3af5d65f75c24983a97c3f775d43e658": {
          "model_module": "@jupyter-widgets/base",
          "model_name": "LayoutModel",
          "model_module_version": "1.2.0",
          "state": {
            "_model_module": "@jupyter-widgets/base",
            "_model_module_version": "1.2.0",
            "_model_name": "LayoutModel",
            "_view_count": null,
            "_view_module": "@jupyter-widgets/base",
            "_view_module_version": "1.2.0",
            "_view_name": "LayoutView",
            "align_content": null,
            "align_items": null,
            "align_self": null,
            "border": null,
            "bottom": null,
            "display": null,
            "flex": null,
            "flex_flow": null,
            "grid_area": null,
            "grid_auto_columns": null,
            "grid_auto_flow": null,
            "grid_auto_rows": null,
            "grid_column": null,
            "grid_gap": null,
            "grid_row": null,
            "grid_template_areas": null,
            "grid_template_columns": null,
            "grid_template_rows": null,
            "height": null,
            "justify_content": null,
            "justify_items": null,
            "left": null,
            "margin": null,
            "max_height": null,
            "max_width": null,
            "min_height": null,
            "min_width": null,
            "object_fit": null,
            "object_position": null,
            "order": null,
            "overflow": null,
            "overflow_x": null,
            "overflow_y": null,
            "padding": null,
            "right": null,
            "top": null,
            "visibility": null,
            "width": null
          }
        },
        "b9b1237e96fe42f39d2230d86579c3be": {
          "model_module": "jupyter-matplotlib",
          "model_name": "ToolbarModel",
          "model_module_version": "^0.11",
          "state": {
            "_current_action": "",
            "_dom_classes": [],
            "_model_module": "jupyter-matplotlib",
            "_model_module_version": "^0.11",
            "_model_name": "ToolbarModel",
            "_view_count": null,
            "_view_module": "jupyter-matplotlib",
            "_view_module_version": "^0.11",
            "_view_name": "ToolbarView",
            "button_style": "",
            "collapsed": true,
            "layout": "IPY_MODEL_4866e0ccf2874d12935dc89aa365fdfc",
            "orientation": "vertical",
            "toolitems": [
              [
                "Home",
                "Reset original view",
                "home",
                "home"
              ],
              [
                "Back",
                "Back to previous view",
                "arrow-left",
                "back"
              ],
              [
                "Forward",
                "Forward to next view",
                "arrow-right",
                "forward"
              ],
              [
                "Pan",
                "Left button pans, Right button zooms\nx/y fixes axis, CTRL fixes aspect",
                "arrows",
                "pan"
              ],
              [
                "Zoom",
                "Zoom to rectangle\nx/y fixes axis",
                "square-o",
                "zoom"
              ],
              [
                "Download",
                "Download plot",
                "floppy-o",
                "save_figure"
              ]
            ]
          }
        },
        "4866e0ccf2874d12935dc89aa365fdfc": {
          "model_module": "@jupyter-widgets/base",
          "model_name": "LayoutModel",
          "model_module_version": "1.2.0",
          "state": {
            "_model_module": "@jupyter-widgets/base",
            "_model_module_version": "1.2.0",
            "_model_name": "LayoutModel",
            "_view_count": null,
            "_view_module": "@jupyter-widgets/base",
            "_view_module_version": "1.2.0",
            "_view_name": "LayoutView",
            "align_content": null,
            "align_items": null,
            "align_self": null,
            "border": null,
            "bottom": null,
            "display": null,
            "flex": null,
            "flex_flow": null,
            "grid_area": null,
            "grid_auto_columns": null,
            "grid_auto_flow": null,
            "grid_auto_rows": null,
            "grid_column": null,
            "grid_gap": null,
            "grid_row": null,
            "grid_template_areas": null,
            "grid_template_columns": null,
            "grid_template_rows": null,
            "height": null,
            "justify_content": null,
            "justify_items": null,
            "left": null,
            "margin": null,
            "max_height": null,
            "max_width": null,
            "min_height": null,
            "min_width": null,
            "object_fit": null,
            "object_position": null,
            "order": null,
            "overflow": null,
            "overflow_x": null,
            "overflow_y": null,
            "padding": null,
            "right": null,
            "top": null,
            "visibility": null,
            "width": null
          }
        }
      }
    }
  },
  "cells": [
    {
      "cell_type": "code",
      "execution_count": 1,
      "metadata": {
        "colab": {
          "base_uri": "https://localhost:8080/"
        },
        "id": "-Qz-Gzrs0H7w",
        "outputId": "e917fc65-2592-456b-aa51-0c0c17d1c55d"
      },
      "outputs": [
        {
          "output_type": "stream",
          "name": "stdout",
          "text": [
            "Looking in indexes: https://pypi.org/simple, https://us-python.pkg.dev/colab-wheels/public/simple/\n",
            "Requirement already satisfied: ipympl in /usr/local/lib/python3.7/dist-packages (0.9.1)\n",
            "Requirement already satisfied: matplotlib<4,>=3.4.0 in /usr/local/lib/python3.7/dist-packages (from ipympl) (3.5.3)\n",
            "Requirement already satisfied: pillow in /usr/local/lib/python3.7/dist-packages (from ipympl) (7.1.2)\n",
            "Requirement already satisfied: numpy in /usr/local/lib/python3.7/dist-packages (from ipympl) (1.21.6)\n",
            "Requirement already satisfied: traitlets<6 in /usr/local/lib/python3.7/dist-packages (from ipympl) (5.1.1)\n",
            "Requirement already satisfied: ipywidgets<8,>=7.6.0 in /usr/local/lib/python3.7/dist-packages (from ipympl) (7.7.1)\n",
            "Requirement already satisfied: ipython<9 in /usr/local/lib/python3.7/dist-packages (from ipympl) (5.5.0)\n",
            "Requirement already satisfied: ipython-genutils in /usr/local/lib/python3.7/dist-packages (from ipympl) (0.2.0)\n",
            "Requirement already satisfied: decorator in /usr/local/lib/python3.7/dist-packages (from ipython<9->ipympl) (4.4.2)\n",
            "Requirement already satisfied: simplegeneric>0.8 in /usr/local/lib/python3.7/dist-packages (from ipython<9->ipympl) (0.8.1)\n",
            "Requirement already satisfied: pickleshare in /usr/local/lib/python3.7/dist-packages (from ipython<9->ipympl) (0.7.5)\n",
            "Requirement already satisfied: pygments in /usr/local/lib/python3.7/dist-packages (from ipython<9->ipympl) (2.6.1)\n",
            "Requirement already satisfied: setuptools>=18.5 in /usr/local/lib/python3.7/dist-packages (from ipython<9->ipympl) (57.4.0)\n",
            "Requirement already satisfied: prompt-toolkit<2.0.0,>=1.0.4 in /usr/local/lib/python3.7/dist-packages (from ipython<9->ipympl) (1.0.18)\n",
            "Requirement already satisfied: pexpect in /usr/local/lib/python3.7/dist-packages (from ipython<9->ipympl) (4.8.0)\n",
            "Requirement already satisfied: widgetsnbextension~=3.6.0 in /usr/local/lib/python3.7/dist-packages (from ipywidgets<8,>=7.6.0->ipympl) (3.6.1)\n",
            "Requirement already satisfied: jupyterlab-widgets>=1.0.0 in /usr/local/lib/python3.7/dist-packages (from ipywidgets<8,>=7.6.0->ipympl) (1.1.1)\n",
            "Requirement already satisfied: ipykernel>=4.5.1 in /usr/local/lib/python3.7/dist-packages (from ipywidgets<8,>=7.6.0->ipympl) (4.10.1)\n",
            "Requirement already satisfied: tornado>=4.0 in /usr/local/lib/python3.7/dist-packages (from ipykernel>=4.5.1->ipywidgets<8,>=7.6.0->ipympl) (5.1.1)\n",
            "Requirement already satisfied: jupyter-client in /usr/local/lib/python3.7/dist-packages (from ipykernel>=4.5.1->ipywidgets<8,>=7.6.0->ipympl) (5.3.5)\n",
            "Requirement already satisfied: kiwisolver>=1.0.1 in /usr/local/lib/python3.7/dist-packages (from matplotlib<4,>=3.4.0->ipympl) (1.4.4)\n",
            "Requirement already satisfied: cycler>=0.10 in /usr/local/lib/python3.7/dist-packages (from matplotlib<4,>=3.4.0->ipympl) (0.11.0)\n",
            "Requirement already satisfied: packaging>=20.0 in /usr/local/lib/python3.7/dist-packages (from matplotlib<4,>=3.4.0->ipympl) (21.3)\n",
            "Requirement already satisfied: pyparsing>=2.2.1 in /usr/local/lib/python3.7/dist-packages (from matplotlib<4,>=3.4.0->ipympl) (3.0.9)\n",
            "Requirement already satisfied: python-dateutil>=2.7 in /usr/local/lib/python3.7/dist-packages (from matplotlib<4,>=3.4.0->ipympl) (2.8.2)\n",
            "Requirement already satisfied: fonttools>=4.22.0 in /usr/local/lib/python3.7/dist-packages (from matplotlib<4,>=3.4.0->ipympl) (4.34.4)\n",
            "Requirement already satisfied: typing-extensions in /usr/local/lib/python3.7/dist-packages (from kiwisolver>=1.0.1->matplotlib<4,>=3.4.0->ipympl) (4.1.1)\n",
            "Requirement already satisfied: six>=1.9.0 in /usr/local/lib/python3.7/dist-packages (from prompt-toolkit<2.0.0,>=1.0.4->ipython<9->ipympl) (1.15.0)\n",
            "Requirement already satisfied: wcwidth in /usr/local/lib/python3.7/dist-packages (from prompt-toolkit<2.0.0,>=1.0.4->ipython<9->ipympl) (0.2.5)\n",
            "Requirement already satisfied: notebook>=4.4.1 in /usr/local/lib/python3.7/dist-packages (from widgetsnbextension~=3.6.0->ipywidgets<8,>=7.6.0->ipympl) (5.3.1)\n",
            "Requirement already satisfied: terminado>=0.8.1 in /usr/local/lib/python3.7/dist-packages (from notebook>=4.4.1->widgetsnbextension~=3.6.0->ipywidgets<8,>=7.6.0->ipympl) (0.13.3)\n",
            "Requirement already satisfied: jinja2 in /usr/local/lib/python3.7/dist-packages (from notebook>=4.4.1->widgetsnbextension~=3.6.0->ipywidgets<8,>=7.6.0->ipympl) (2.11.3)\n",
            "Requirement already satisfied: Send2Trash in /usr/local/lib/python3.7/dist-packages (from notebook>=4.4.1->widgetsnbextension~=3.6.0->ipywidgets<8,>=7.6.0->ipympl) (1.8.0)\n",
            "Requirement already satisfied: nbformat in /usr/local/lib/python3.7/dist-packages (from notebook>=4.4.1->widgetsnbextension~=3.6.0->ipywidgets<8,>=7.6.0->ipympl) (5.4.0)\n",
            "Requirement already satisfied: nbconvert in /usr/local/lib/python3.7/dist-packages (from notebook>=4.4.1->widgetsnbextension~=3.6.0->ipywidgets<8,>=7.6.0->ipympl) (5.6.1)\n",
            "Requirement already satisfied: jupyter-core>=4.4.0 in /usr/local/lib/python3.7/dist-packages (from notebook>=4.4.1->widgetsnbextension~=3.6.0->ipywidgets<8,>=7.6.0->ipympl) (4.11.1)\n",
            "Requirement already satisfied: pyzmq>=13 in /usr/local/lib/python3.7/dist-packages (from jupyter-client->ipykernel>=4.5.1->ipywidgets<8,>=7.6.0->ipympl) (23.2.0)\n",
            "Requirement already satisfied: ptyprocess in /usr/local/lib/python3.7/dist-packages (from terminado>=0.8.1->notebook>=4.4.1->widgetsnbextension~=3.6.0->ipywidgets<8,>=7.6.0->ipympl) (0.7.0)\n",
            "Requirement already satisfied: MarkupSafe>=0.23 in /usr/local/lib/python3.7/dist-packages (from jinja2->notebook>=4.4.1->widgetsnbextension~=3.6.0->ipywidgets<8,>=7.6.0->ipympl) (2.0.1)\n",
            "Requirement already satisfied: testpath in /usr/local/lib/python3.7/dist-packages (from nbconvert->notebook>=4.4.1->widgetsnbextension~=3.6.0->ipywidgets<8,>=7.6.0->ipympl) (0.6.0)\n",
            "Requirement already satisfied: entrypoints>=0.2.2 in /usr/local/lib/python3.7/dist-packages (from nbconvert->notebook>=4.4.1->widgetsnbextension~=3.6.0->ipywidgets<8,>=7.6.0->ipympl) (0.4)\n",
            "Requirement already satisfied: pandocfilters>=1.4.1 in /usr/local/lib/python3.7/dist-packages (from nbconvert->notebook>=4.4.1->widgetsnbextension~=3.6.0->ipywidgets<8,>=7.6.0->ipympl) (1.5.0)\n",
            "Requirement already satisfied: mistune<2,>=0.8.1 in /usr/local/lib/python3.7/dist-packages (from nbconvert->notebook>=4.4.1->widgetsnbextension~=3.6.0->ipywidgets<8,>=7.6.0->ipympl) (0.8.4)\n",
            "Requirement already satisfied: bleach in /usr/local/lib/python3.7/dist-packages (from nbconvert->notebook>=4.4.1->widgetsnbextension~=3.6.0->ipywidgets<8,>=7.6.0->ipympl) (5.0.1)\n",
            "Requirement already satisfied: defusedxml in /usr/local/lib/python3.7/dist-packages (from nbconvert->notebook>=4.4.1->widgetsnbextension~=3.6.0->ipywidgets<8,>=7.6.0->ipympl) (0.7.1)\n",
            "Requirement already satisfied: fastjsonschema in /usr/local/lib/python3.7/dist-packages (from nbformat->notebook>=4.4.1->widgetsnbextension~=3.6.0->ipywidgets<8,>=7.6.0->ipympl) (2.16.1)\n",
            "Requirement already satisfied: jsonschema>=2.6 in /usr/local/lib/python3.7/dist-packages (from nbformat->notebook>=4.4.1->widgetsnbextension~=3.6.0->ipywidgets<8,>=7.6.0->ipympl) (4.3.3)\n",
            "Requirement already satisfied: attrs>=17.4.0 in /usr/local/lib/python3.7/dist-packages (from jsonschema>=2.6->nbformat->notebook>=4.4.1->widgetsnbextension~=3.6.0->ipywidgets<8,>=7.6.0->ipympl) (22.1.0)\n",
            "Requirement already satisfied: importlib-metadata in /usr/local/lib/python3.7/dist-packages (from jsonschema>=2.6->nbformat->notebook>=4.4.1->widgetsnbextension~=3.6.0->ipywidgets<8,>=7.6.0->ipympl) (4.12.0)\n",
            "Requirement already satisfied: importlib-resources>=1.4.0 in /usr/local/lib/python3.7/dist-packages (from jsonschema>=2.6->nbformat->notebook>=4.4.1->widgetsnbextension~=3.6.0->ipywidgets<8,>=7.6.0->ipympl) (5.9.0)\n",
            "Requirement already satisfied: pyrsistent!=0.17.0,!=0.17.1,!=0.17.2,>=0.14.0 in /usr/local/lib/python3.7/dist-packages (from jsonschema>=2.6->nbformat->notebook>=4.4.1->widgetsnbextension~=3.6.0->ipywidgets<8,>=7.6.0->ipympl) (0.18.1)\n",
            "Requirement already satisfied: zipp>=3.1.0 in /usr/local/lib/python3.7/dist-packages (from importlib-resources>=1.4.0->jsonschema>=2.6->nbformat->notebook>=4.4.1->widgetsnbextension~=3.6.0->ipywidgets<8,>=7.6.0->ipympl) (3.8.1)\n",
            "Requirement already satisfied: webencodings in /usr/local/lib/python3.7/dist-packages (from bleach->nbconvert->notebook>=4.4.1->widgetsnbextension~=3.6.0->ipywidgets<8,>=7.6.0->ipympl) (0.5.1)\n"
          ]
        }
      ],
      "source": [
        "!pip install ipympl"
      ]
    },
    {
      "cell_type": "code",
      "source": [
        "# Widget to manipulate plots in Jupyter notebooks\n",
        "%matplotlib widget \n",
        "\n",
        "import matplotlib.pyplot as plt # For general plotting\n",
        "import matplotlib.colors as mcol\n",
        "\n",
        "import numpy as np\n",
        "import pandas as pd\n",
        "from scipy.stats import multivariate_normal as mvn\n",
        "from sklearn.linear_model import LogisticRegression\n",
        "from sklearn.datasets import make_spd_matrix\n",
        "import matplotlib.pyplot as plt\n",
        "from sklearn.model_selection import KFold\n",
        "from scipy.optimize import minimize\n",
        "from sklearn.metrics import mean_squared_error\n",
        "import torch\n",
        "import torch.nn as nn\n",
        "import torch.nn.functional as F\n",
        "\n",
        "# Utility to visualize PyTorch network and shapes\n",
        "from torchsummary import summary\n",
        "from google.colab import output\n",
        "output.enable_custom_widget_manager()\n",
        "\n",
        "np.random.seed(2)\n",
        "\n",
        "n = 10\n",
        "n_train = 50\n",
        "n_test = 1000"
      ],
      "metadata": {
        "id": "hh459FOy0NVu"
      },
      "execution_count": 2,
      "outputs": []
    },
    {
      "cell_type": "code",
      "source": [
        "a = (np.random.rand(n, 1) * 10 - 10)\n",
        "mu = np.random.rand(n) * 10 - 10\n",
        "sigma = make_spd_matrix(10) * 10 #positive definite matrix\n",
        "scale = 1.25\n",
        "\n",
        "X_train = np.random.multivariate_normal(mu, sigma, n_train)\n",
        "z_train = np.random.multivariate_normal(np.zeros(10), scale * np.eye(10), size=n_train)\n",
        "v_train = np.random.normal(0, 1, size=n_train).reshape(-1, 1)\n",
        "y_train = (X_train + z_train).dot(a) + v_train\n",
        "\n",
        "X_test = np.random.multivariate_normal(mu, sigma, n_test)\n",
        "z_test = np.random.multivariate_normal(\n",
        "    np.zeros(n), scale * np.eye(n), size=n_test\n",
        ")\n",
        "v_test = np.random.normal(0, 1, size=n_test).reshape(-1, 1)\n",
        "y_test = (X_test + z_test).dot(a) + v_test"
      ],
      "metadata": {
        "id": "Lf-sijm30NYW"
      },
      "execution_count": 3,
      "outputs": []
    },
    {
      "cell_type": "code",
      "source": [
        "def map_solution(X, y, beta=1):\n",
        "    # Model: y = phi(X)^T*theta\n",
        "    # LS estimate: theta^* = (phi(X)^T*phi(X))^-1 * phi(X)^T * y\n",
        "    \n",
        "    iden = np.identity(X.shape[1])\n",
        "    class_prior = np.dot(beta,iden)\n",
        "    \n",
        "    return np.linalg.inv(X.T.dot(X) + class_prior).dot(X.T).dot(y)"
      ],
      "metadata": {
        "id": "K3JSoNKt0Nad"
      },
      "execution_count": 4,
      "outputs": []
    },
    {
      "cell_type": "code",
      "source": [
        "k_fold = KFold(n_splits=5, shuffle=True, random_state=0) #5 folds of data;\n",
        "def cross_val(b, X, y):\n",
        "\n",
        "  err_per_k = []\n",
        "  for train_idx, kf_idx in k_fold.split(X):\n",
        "\n",
        "    X_train = X[train_idx]\n",
        "    y_train = y[train_idx]\n",
        "    X_k = X[kf_idx]\n",
        "    y_k = y[kf_idx]\n",
        "\n",
        "    best_theta = map_solution(X[train_idx], y_train, b)\n",
        "    y_train_k_pred = X_train.dot(best_theta)        \n",
        "    y_valid_k_pred = X_k.dot(best_theta)\n",
        "    \n",
        "    #error_m_k = mean_squared_error( y_train, y_train_k_pred)\n",
        "    error_m_k = mean_squared_error(y_k, y_valid_k_pred )\n",
        "\n",
        "    err_per_k.append(error_m_k)\n",
        "\n",
        "  mean_err = np.mean(err_per_k)\n",
        "  return mean_err"
      ],
      "metadata": {
        "id": "V9M7kPUZ0Ncr"
      },
      "execution_count": 5,
      "outputs": []
    },
    {
      "cell_type": "code",
      "source": [
        "beta_vals = np.logspace(-2, 4)\n",
        "mse_list = [cross_val(b, X_train, y_train) for b in beta_vals]\n",
        "best_beta = beta_vals[np.argmin(mse_list)]\n",
        "\n",
        "print(f\"Best beta value: {best_beta}\")\n",
        "mse_cv = np.min(mse_list)\n",
        "print(f\"MSE(cross validated) of best beta: {mse_cv}\")"
      ],
      "metadata": {
        "colab": {
          "base_uri": "https://localhost:8080/"
        },
        "id": "UpBidVBc0Ney",
        "outputId": "fdf9749f-baea-4bcd-f7ce-6de31ff2acc1"
      },
      "execution_count": 6,
      "outputs": [
        {
          "output_type": "stream",
          "name": "stdout",
          "text": [
            "Best beta value: 0.01\n",
            "MSE(cross validated) of best beta: 430.52820516714974\n"
          ]
        }
      ]
    },
    {
      "cell_type": "code",
      "source": [
        "#!pip install matplotlib==2.2.3"
      ],
      "metadata": {
        "id": "lgD4LHep6OG-"
      },
      "execution_count": 7,
      "outputs": []
    },
    {
      "cell_type": "code",
      "source": [
        "from google.colab import output\n",
        "output.enable_custom_widget_manager()\n",
        "\n",
        "fig, ax = plt.subplots(figsize=(9, 9))\n",
        "ax.plot(beta_vals, mse_list, label=\"CV MSE\")\n",
        "ax.scatter(best_beta,np.min(mse_list),label=r\"Optimal $\\beta$\",zorder=3,linewidth=6,color=\"#fc4f30\")\n",
        "ax.set_title(r\"MSE vs $\\beta$\")\n",
        "ax.set_xlabel(r\"$\\beta$\")\n",
        "ax.set_ylabel(r\"MSE\")\n",
        "ax.legend()\n",
        "ax.set_xscale(\"log\")"
      ],
      "metadata": {
        "colab": {
          "base_uri": "https://localhost:8080/",
          "height": 737,
          "referenced_widgets": [
            "c4f1941804fa4627ae404151a1ee210f",
            "3af5d65f75c24983a97c3f775d43e658",
            "b9b1237e96fe42f39d2230d86579c3be",
            "4866e0ccf2874d12935dc89aa365fdfc"
          ]
        },
        "id": "ePbgRL5B0Ngy",
        "outputId": "4d817388-8c9d-4356-d233-04ab44449550"
      },
      "execution_count": 7,
      "outputs": [
        {
          "output_type": "display_data",
          "data": {
            "text/plain": [
              "Canvas(toolbar=Toolbar(toolitems=[('Home', 'Reset original view', 'home', 'home'), ('Back', 'Back to previous …"
            ],
            "image/png": "[encoded data removed]",
            "text/html": [
              "\n",
              "            <div style=\"display: inline-block;\">\n",
              "                <div class=\"jupyter-widgets widget-label\" style=\"text-align: center;\">\n",
              "                    Figure\n",
              "                </div>\n",
              "                <img src='data:image/png;base64,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' width=648.0/>\n",
              "            </div>\n",
              "        "
            ],
            "application/vnd.jupyter.widget-view+json": {
              "version_major": 2,
              "version_minor": 0,
              "model_id": "c4f1941804fa4627ae404151a1ee210f"
            }
          },
          "metadata": {
            "application/vnd.jupyter.widget-view+json": {
              "colab": {
                "custom_widget_manager": {
                  "url": "https://ssl.gstatic.com/colaboratory-static/widgets/colab-cdn-widget-manager/d2e234f7cc04bf79/manager.min.js"
                }
              }
            }
          }
        }
      ]
    }
  ]
}